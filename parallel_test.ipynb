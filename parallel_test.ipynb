{
 "cells": [
  {
   "cell_type": "code",
   "execution_count": null,
   "metadata": {},
   "outputs": [],
   "source": [
    "from ActivationStoreParallel import ActivationsStore\n",
    "from sparse_transcoder import SparseTranscoder\n",
    "from transcoder_training_parallel import train_transcoder_on_language_model_parallel\n",
    "from transcoder_runner_parallel import language_model_transcoder_runner_parallel\n",
    "from dataclasses import dataclass\n",
    "import transformer_lens\n",
    "import torch\n",
    "import wandb"
   ]
  },
  {
   "cell_type": "code",
   "execution_count": null,
   "metadata": {},
   "outputs": [],
   "source": []
  },
  {
   "cell_type": "code",
   "execution_count": null,
   "metadata": {},
   "outputs": [],
   "source": [
    "@dataclass\n",
    "class Config1():\n",
    "\n",
    "    # Data Generating Function (Model + Training Distibuion)\n",
    "    model_name = \"gpt2-small\"\n",
    "    hook_transcoder_in = \"blocks.10.hook_resid_pre\"\n",
    "    hook_point = \"blocks.10.hook_resid_pre\"\n",
    "    hook_transcoder_out = \"blocks.10.attn.hook_q\"\n",
    "    target = \"blocks.10.attn.hook_q\"\n",
    "    hook_point_layer = 10\n",
    "    ln = 'blocks.10.ln1.hook_scale'\n",
    "    d_in = 768\n",
    "    d_out = 768 * 12\n",
    "    n_head = 12\n",
    "    d_head = 64\n",
    "    dataset_path = \"Skylion007/openwebtext\"\n",
    "    is_dataset_tokenized=False\n",
    "    layer = 10\n",
    "    training = True\n",
    "    attn_scores_normed = False\n",
    "    \n",
    "    \n",
    "    # SAE Parameters\n",
    "    expansion_factor = 12 # determines the dimension of the SAE.\n",
    "    d_hidden = 2400\n",
    "    b_dec_init_method = \"mean\"\n",
    "    \n",
    "    # Training Parameters\n",
    "    lr = 1e-5\n",
    "    reg_coefficient = 4e-6\n",
    "    lr_scheduler_name=None\n",
    "    train_batch_size = 2048\n",
    "    context_size = 256\n",
    "    lr_warm_up_steps=5000\n",
    "    \n",
    "    # Activation Store Parameters\n",
    "    n_batches_in_buffer = 128\n",
    "    total_training_tokens = 20_000 * 10_000 # 200M tokens seems doable overnight.\n",
    "    store_batch_size = 32\n",
    "    use_cached_activations = False\n",
    "    \n",
    "    # Resampling protocol\n",
    "    feature_sampling_method = 'none'\n",
    "    feature_sampling_window = 1000\n",
    "    feature_reinit_scale = 0.2\n",
    "    resample_batches=1028\n",
    "    dead_feature_window=50000\n",
    "    dead_feature_threshold = 1e-6\n",
    "    \n",
    "    # WANDB\n",
    "    log_to_wandb = True\n",
    "    wandb_project= \"sparsification\"\n",
    "    wandb_entity = None\n",
    "    wandb_log_frequency=1000\n",
    "    entity = \"kwyn390\"\n",
    "    \n",
    "    # Misc\n",
    "    device = \"cuda\"\n",
    "    eps = 1e-7\n",
    "    seed = 42\n",
    "    reshape_from_heads = True\n",
    "    n_checkpoints = 10\n",
    "    checkpoint_path = \"checkpoints\"\n",
    "    dtype = torch.float32\n",
    "    run_name = \"qk_parallel\"\n",
    "    type = \"resid_to_queries\"\n",
    "\n",
    "cfg1 = Config1()\n",
    "\n",
    "cfg1.run_name = str(cfg1.d_hidden) + \"_\" + str(cfg1.reg_coefficient) + \"_\" + str(cfg1.lr)"
   ]
  },
  {
   "cell_type": "code",
   "execution_count": null,
   "metadata": {},
   "outputs": [],
   "source": [
    "@dataclass\n",
    "class Config2():\n",
    "\n",
    "    # Data Generating Function (Model + Training Distibuion)\n",
    "    model_name = \"gpt2\"\n",
    "    hook_transcoder_in = \"blocks.10.hook_resid_pre\"\n",
    "    hook_point = \"blocks.10.hook_resid_pre\"\n",
    "    hook_transcoder_out = \"blocks.10.attn.hook_k\"\n",
    "    target = \"blocks.10.attn.hook_k\"\n",
    "    hook_point_layer = 2\n",
    "    layer = 10\n",
    "    d_in = 768\n",
    "    d_out = 768\n",
    "    dataset_path = \"Skylion007/openwebtext\"\n",
    "    is_dataset_tokenized=False\n",
    "    training = True\n",
    "    d_head = 64\n",
    "    n_head = 12\n",
    "\n",
    "    \n",
    "    # SAE Parameters\n",
    "    expansion_factor = 12 # determines the dimension of the SAE.\n",
    "    d_hidden = 2400\n",
    "    b_dec_init_method = \"mean\"\n",
    "    \n",
    "    # Training Parameters\n",
    "    lr = 0.0002\n",
    "    reg_coefficient = 4e-6\n",
    "    lr_scheduler_name=None\n",
    "    train_batch_size = 4096\n",
    "    context_size = 128\n",
    "    lr_warm_up_steps=5000\n",
    "    \n",
    "    # Activation Store Parameters\n",
    "    n_batches_in_buffer = 128\n",
    "    total_training_tokens = 20_000 * 20_000 # 200M tokens seems doable overnight.\n",
    "    store_batch_size = 32\n",
    "    use_cached_activations = False\n",
    "    \n",
    "    # Resampling protocol\n",
    "    feature_sampling_method = 'none'\n",
    "    feature_sampling_window = 1000\n",
    "    feature_reinit_scale = 0.2\n",
    "    resample_batches=1028\n",
    "    dead_feature_window=50000\n",
    "    dead_feature_threshold = 1e-6\n",
    "    \n",
    "    # WANDB\n",
    "    log_to_wandb = True\n",
    "    wandb_project= \"transcoder_training_gpt2_L10\"\n",
    "    wandb_entity = None\n",
    "    wandb_log_frequency=1000\n",
    "    \n",
    "    # Misc\n",
    "    device = \"cuda\"\n",
    "    eps = 1e-7\n",
    "    seed = 42\n",
    "    reshape_from_heads = True\n",
    "    n_checkpoints = 10\n",
    "    checkpoint_path = \"checkpoints\"\n",
    "    dtype = torch.float32\n",
    "    run_name = \"parallel_test\"\n",
    "    type = \"resid_to_keys\"\n",
    "\n",
    "cfg2 = Config2()"
   ]
  },
  {
   "cell_type": "code",
   "execution_count": null,
   "metadata": {},
   "outputs": [],
   "source": [
    "sparse_transcoder_Q, sparse_transcoder_K = language_model_transcoder_runner_parallel(cfg1, cfg2)"
   ]
  },
  {
   "cell_type": "code",
   "execution_count": 1,
   "metadata": {},
   "outputs": [],
   "source": [
    "import torch"
   ]
  },
  {
   "cell_type": "code",
   "execution_count": 2,
   "metadata": {},
   "outputs": [],
   "source": [
    "kl_loss = torch.nn.KLDivLoss(reduction=\"batchmean\", log_target = True)\n"
   ]
  },
  {
   "cell_type": "code",
   "execution_count": 54,
   "metadata": {},
   "outputs": [
    {
     "name": "stdout",
     "output_type": "stream",
     "text": [
      "tensor(0.0819)\n"
     ]
    }
   ],
   "source": [
    "a = torch.rand(12, 256, 256)\n",
    "b = torch.rand(12, 256, 256)\n",
    "\n",
    "\n",
    "a_patt = a.softmax(-1)\n",
    "b_patt = b.softmax(-1)\n",
    "\n",
    "print(kl_loss(a_patt, b_patt).mean())"
   ]
  },
  {
   "cell_type": "code",
   "execution_count": null,
   "metadata": {},
   "outputs": [],
   "source": [
    "kl_loss = torch.nn.KLDivLoss(reduction=\"batchmean\", log_target = True)\n",
    "\n",
    "kl_loss(a_patt, b_patt)"
   ]
  }
 ],
 "metadata": {
  "kernelspec": {
   "display_name": ".venv",
   "language": "python",
   "name": "python3"
  },
  "language_info": {
   "codemirror_mode": {
    "name": "ipython",
    "version": 3
   },
   "file_extension": ".py",
   "mimetype": "text/x-python",
   "name": "python",
   "nbconvert_exporter": "python",
   "pygments_lexer": "ipython3",
   "version": "3.11.7"
  }
 },
 "nbformat": 4,
 "nbformat_minor": 2
}
